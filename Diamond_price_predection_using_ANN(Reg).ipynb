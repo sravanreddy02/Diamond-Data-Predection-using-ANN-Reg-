{
  "nbformat": 4,
  "nbformat_minor": 0,
  "metadata": {
    "colab": {
      "name": "Diamond price predection using ANN(Reg).ipynb",
      "provenance": [],
      "collapsed_sections": []
    },
    "kernelspec": {
      "display_name": "Python 3",
      "name": "python3"
    },
    "language_info": {
      "name": "python"
    }
  },
  "cells": [
    {
      "cell_type": "markdown",
      "metadata": {
        "id": "4cR9KwY1K1QY"
      },
      "source": [
        "# **Importing Required Libraries** "
      ]
    },
    {
      "cell_type": "code",
      "metadata": {
        "id": "5TQD-DmqHku9"
      },
      "source": [
        "import pandas as pd\n",
        "import numpy as np\n",
        "import seaborn as sns\n",
        "import matplotlib.pyplot as plt\n",
        "\n",
        "sns.set_style(style= 'darkgrid')"
      ],
      "execution_count": 4,
      "outputs": []
    },
    {
      "cell_type": "markdown",
      "metadata": {
        "id": "IlfATDamLF6u"
      },
      "source": [
        "## **Loading the Data**"
      ]
    },
    {
      "cell_type": "code",
      "metadata": {
        "colab": {
          "base_uri": "https://localhost:8080/"
        },
        "id": "ISJrYvY6SoSU",
        "outputId": "79d9373b-91f1-4494-f6a6-e71e83c3e521"
      },
      "source": [
        "from google.colab import drive\n",
        "drive.mount('/content/drive')"
      ],
      "execution_count": 5,
      "outputs": [
        {
          "output_type": "stream",
          "name": "stdout",
          "text": [
            "Mounted at /content/drive\n"
          ]
        }
      ]
    },
    {
      "cell_type": "code",
      "metadata": {
        "id": "_mFPYvpoXw-N"
      },
      "source": [
        "# To remove the scientific notation from numpy arrays\n",
        "np.set_printoptions(suppress=True)\n",
        "df = pd.read_csv(r'/content/drive/MyDrive/diamonds.csv')"
      ],
      "execution_count": 89,
      "outputs": []
    },
    {
      "cell_type": "code",
      "metadata": {
        "colab": {
          "base_uri": "https://localhost:8080/",
          "height": 200
        },
        "id": "6A_u4MV2YJdY",
        "outputId": "0f2fa40c-3afa-4c42-ce07-8d8eddf83232"
      },
      "source": [
        "df.head()"
      ],
      "execution_count": 90,
      "outputs": [
        {
          "output_type": "execute_result",
          "data": {
            "text/html": [
              "<div>\n",
              "<style scoped>\n",
              "    .dataframe tbody tr th:only-of-type {\n",
              "        vertical-align: middle;\n",
              "    }\n",
              "\n",
              "    .dataframe tbody tr th {\n",
              "        vertical-align: top;\n",
              "    }\n",
              "\n",
              "    .dataframe thead th {\n",
              "        text-align: right;\n",
              "    }\n",
              "</style>\n",
              "<table border=\"1\" class=\"dataframe\">\n",
              "  <thead>\n",
              "    <tr style=\"text-align: right;\">\n",
              "      <th></th>\n",
              "      <th>Unnamed: 0</th>\n",
              "      <th>carat</th>\n",
              "      <th>cut</th>\n",
              "      <th>color</th>\n",
              "      <th>clarity</th>\n",
              "      <th>depth</th>\n",
              "      <th>table</th>\n",
              "      <th>price</th>\n",
              "      <th>x</th>\n",
              "      <th>y</th>\n",
              "      <th>z</th>\n",
              "    </tr>\n",
              "  </thead>\n",
              "  <tbody>\n",
              "    <tr>\n",
              "      <th>0</th>\n",
              "      <td>1</td>\n",
              "      <td>0.23</td>\n",
              "      <td>Ideal</td>\n",
              "      <td>E</td>\n",
              "      <td>SI2</td>\n",
              "      <td>61.5</td>\n",
              "      <td>55.0</td>\n",
              "      <td>326</td>\n",
              "      <td>3.95</td>\n",
              "      <td>3.98</td>\n",
              "      <td>2.43</td>\n",
              "    </tr>\n",
              "    <tr>\n",
              "      <th>1</th>\n",
              "      <td>2</td>\n",
              "      <td>0.21</td>\n",
              "      <td>Premium</td>\n",
              "      <td>E</td>\n",
              "      <td>SI1</td>\n",
              "      <td>59.8</td>\n",
              "      <td>61.0</td>\n",
              "      <td>326</td>\n",
              "      <td>3.89</td>\n",
              "      <td>3.84</td>\n",
              "      <td>2.31</td>\n",
              "    </tr>\n",
              "    <tr>\n",
              "      <th>2</th>\n",
              "      <td>3</td>\n",
              "      <td>0.23</td>\n",
              "      <td>Good</td>\n",
              "      <td>E</td>\n",
              "      <td>VS1</td>\n",
              "      <td>56.9</td>\n",
              "      <td>65.0</td>\n",
              "      <td>327</td>\n",
              "      <td>4.05</td>\n",
              "      <td>4.07</td>\n",
              "      <td>2.31</td>\n",
              "    </tr>\n",
              "    <tr>\n",
              "      <th>3</th>\n",
              "      <td>4</td>\n",
              "      <td>0.29</td>\n",
              "      <td>Premium</td>\n",
              "      <td>I</td>\n",
              "      <td>VS2</td>\n",
              "      <td>62.4</td>\n",
              "      <td>58.0</td>\n",
              "      <td>334</td>\n",
              "      <td>4.20</td>\n",
              "      <td>4.23</td>\n",
              "      <td>2.63</td>\n",
              "    </tr>\n",
              "    <tr>\n",
              "      <th>4</th>\n",
              "      <td>5</td>\n",
              "      <td>0.31</td>\n",
              "      <td>Good</td>\n",
              "      <td>J</td>\n",
              "      <td>SI2</td>\n",
              "      <td>63.3</td>\n",
              "      <td>58.0</td>\n",
              "      <td>335</td>\n",
              "      <td>4.34</td>\n",
              "      <td>4.35</td>\n",
              "      <td>2.75</td>\n",
              "    </tr>\n",
              "  </tbody>\n",
              "</table>\n",
              "</div>"
            ],
            "text/plain": [
              "   Unnamed: 0  carat      cut color clarity  ...  table  price     x     y     z\n",
              "0           1   0.23    Ideal     E     SI2  ...   55.0    326  3.95  3.98  2.43\n",
              "1           2   0.21  Premium     E     SI1  ...   61.0    326  3.89  3.84  2.31\n",
              "2           3   0.23     Good     E     VS1  ...   65.0    327  4.05  4.07  2.31\n",
              "3           4   0.29  Premium     I     VS2  ...   58.0    334  4.20  4.23  2.63\n",
              "4           5   0.31     Good     J     SI2  ...   58.0    335  4.34  4.35  2.75\n",
              "\n",
              "[5 rows x 11 columns]"
            ]
          },
          "metadata": {},
          "execution_count": 90
        }
      ]
    },
    {
      "cell_type": "code",
      "metadata": {
        "colab": {
          "base_uri": "https://localhost:8080/"
        },
        "id": "4bNmI4Qob4uL",
        "outputId": "2ec33333-4c20-47bc-c900-c88e29978bda"
      },
      "source": [
        "df.info()"
      ],
      "execution_count": 91,
      "outputs": [
        {
          "output_type": "stream",
          "name": "stdout",
          "text": [
            "<class 'pandas.core.frame.DataFrame'>\n",
            "RangeIndex: 53940 entries, 0 to 53939\n",
            "Data columns (total 11 columns):\n",
            " #   Column      Non-Null Count  Dtype  \n",
            "---  ------      --------------  -----  \n",
            " 0   Unnamed: 0  53940 non-null  int64  \n",
            " 1   carat       53940 non-null  float64\n",
            " 2   cut         53940 non-null  object \n",
            " 3   color       53940 non-null  object \n",
            " 4   clarity     53940 non-null  object \n",
            " 5   depth       53940 non-null  float64\n",
            " 6   table       53940 non-null  float64\n",
            " 7   price       53940 non-null  int64  \n",
            " 8   x           53940 non-null  float64\n",
            " 9   y           53940 non-null  float64\n",
            " 10  z           53940 non-null  float64\n",
            "dtypes: float64(6), int64(2), object(3)\n",
            "memory usage: 4.5+ MB\n"
          ]
        }
      ]
    },
    {
      "cell_type": "code",
      "metadata": {
        "colab": {
          "base_uri": "https://localhost:8080/"
        },
        "id": "SRO0OtpQcjf-",
        "outputId": "69739c5b-c992-469e-b0fe-1bdeedcc0f1e"
      },
      "source": [
        "df.isnull().sum()"
      ],
      "execution_count": 9,
      "outputs": [
        {
          "output_type": "execute_result",
          "data": {
            "text/plain": [
              "Unnamed: 0    0\n",
              "carat         0\n",
              "cut           0\n",
              "color         0\n",
              "clarity       0\n",
              "depth         0\n",
              "table         0\n",
              "price         0\n",
              "x             0\n",
              "y             0\n",
              "z             0\n",
              "dtype: int64"
            ]
          },
          "metadata": {},
          "execution_count": 9
        }
      ]
    },
    {
      "cell_type": "code",
      "metadata": {
        "id": "H1NOcKBR9Ol6"
      },
      "source": [
        "df.drop('Unnamed: 0',axis = 1,inplace= True)"
      ],
      "execution_count": 92,
      "outputs": []
    },
    {
      "cell_type": "code",
      "metadata": {
        "colab": {
          "base_uri": "https://localhost:8080/"
        },
        "id": "o_UQeoPk9Aj2",
        "outputId": "4722b0b1-4743-4607-9c43-0b7372b87fab"
      },
      "source": [
        "df.columns"
      ],
      "execution_count": 93,
      "outputs": [
        {
          "output_type": "execute_result",
          "data": {
            "text/plain": [
              "Index(['carat', 'cut', 'color', 'clarity', 'depth', 'table', 'price', 'x', 'y',\n",
              "       'z'],\n",
              "      dtype='object')"
            ]
          },
          "metadata": {},
          "execution_count": 93
        }
      ]
    },
    {
      "cell_type": "code",
      "metadata": {
        "id": "ofBGMkNntpMl"
      },
      "source": [
        "# Import label encoder \n",
        "from sklearn import preprocessing\n",
        "\n",
        "# label_encoder object knows how to understand word labels. \n",
        "label_encoder = preprocessing.LabelEncoder()\n",
        "\n",
        "# Encode labels in column 'cut'. \n",
        "df['cut']= label_encoder.fit_transform(df['cut']) \n",
        "\n",
        "# Encode labels in column 'cut'. \n",
        "df['color']= label_encoder.fit_transform(df['color']) \n",
        "\n",
        "# Encode labels in column 'cut'. \n",
        "df['clarity']= label_encoder.fit_transform(df['clarity']) \n"
      ],
      "execution_count": 94,
      "outputs": []
    },
    {
      "cell_type": "code",
      "metadata": {
        "id": "fd5Y9_zlJj-4"
      },
      "source": [
        "# Separate Target Variable and Predictor Variables\n",
        "TargetVariable=['price']\n",
        "Predictors=['carat', 'cut', 'color', 'clarity', 'depth', 'table','x', 'y', 'z']"
      ],
      "execution_count": 110,
      "outputs": []
    },
    {
      "cell_type": "code",
      "metadata": {
        "id": "lo7Z93HgxlQT"
      },
      "source": [
        "X=df[Predictors].values\n",
        "y=df[TargetVariable].values"
      ],
      "execution_count": 111,
      "outputs": []
    },
    {
      "cell_type": "code",
      "metadata": {
        "id": "eEYQegqJxlS6"
      },
      "source": [
        "### Sandardization of data ###\n",
        "from sklearn.preprocessing import StandardScaler\n",
        "PredictorScaler=StandardScaler()\n",
        "TargetVarScaler=StandardScaler()"
      ],
      "execution_count": 112,
      "outputs": []
    },
    {
      "cell_type": "code",
      "metadata": {
        "id": "8ohAy4Aw86X9"
      },
      "source": [
        "# Storing the fit object for later reference\n",
        "PredictorScalerFit= PredictorScaler.fit(X)\n",
        "TargetVarScalerFit= TargetVarScaler.fit(y)\n"
      ],
      "execution_count": 139,
      "outputs": []
    },
    {
      "cell_type": "code",
      "metadata": {
        "id": "6XrvLUQ4S-ZD"
      },
      "source": [
        "# Generating the standardized values of X and y\n",
        "X=PredictorScalerFit.transform(X)\n",
        "y=TargetVarScalerFit.transform(y)"
      ],
      "execution_count": 138,
      "outputs": []
    },
    {
      "cell_type": "code",
      "metadata": {
        "id": "QONFuGSnxlc5"
      },
      "source": [
        "# Split the data into training and testing set\n",
        "from sklearn.model_selection import train_test_split\n",
        "X_train, X_test, y_train, y_test = train_test_split(X, y, test_size=0.3, random_state=42)"
      ],
      "execution_count": 140,
      "outputs": []
    },
    {
      "cell_type": "code",
      "metadata": {
        "colab": {
          "base_uri": "https://localhost:8080/"
        },
        "id": "vBljLpzhTIbL",
        "outputId": "67a3235b-591b-4890-b253-29d7d03ffc16"
      },
      "source": [
        "# Quick sanity check with the shapes of Training and testing datasets\n",
        "print(X_train.shape)\n",
        "print(y_train.shape)\n",
        "print(X_test.shape)\n",
        "print(y_test.shape)"
      ],
      "execution_count": 141,
      "outputs": [
        {
          "output_type": "stream",
          "name": "stdout",
          "text": [
            "(37758, 9)\n",
            "(37758, 1)\n",
            "(16182, 9)\n",
            "(16182, 1)\n"
          ]
        }
      ]
    },
    {
      "cell_type": "code",
      "metadata": {
        "id": "vZWJxfjZxlfV"
      },
      "source": [
        "# Install required libraries\n",
        "#!pip install tensorflow\n",
        "#!pip install keras"
      ],
      "execution_count": 100,
      "outputs": []
    },
    {
      "cell_type": "code",
      "metadata": {
        "id": "adDuJ50JTF5V"
      },
      "source": [
        ""
      ],
      "execution_count": null,
      "outputs": []
    },
    {
      "cell_type": "code",
      "metadata": {
        "colab": {
          "base_uri": "https://localhost:8080/"
        },
        "id": "gnkL53WK8PWE",
        "outputId": "bfb8970b-1b7e-483b-f949-e455acc6a9ec"
      },
      "source": [
        "# importing the libraries\n",
        "from keras.models import Sequential\n",
        "from keras.layers import Dense\n",
        "from keras.callbacks import EarlyStopping\n",
        "\n",
        "# create ANN model\n",
        "model = Sequential()\n",
        "\n",
        "# Defining the Input layer and FIRST hidden layer, both are same!\n",
        "model.add(Dense(units=5, input_dim=9, kernel_initializer='normal', activation='relu'))\n",
        "\n",
        "# Defining the Second layer of the model\n",
        "# after the first layer we don't have to specify input_dim as keras configure it automatically\n",
        "model.add(Dense(units=5, kernel_initializer='normal', activation='tanh'))\n",
        "\n",
        "# The output neuron is a single fully connected node \n",
        "# Since we will be predicting a single number\n",
        "model.add(Dense(1, kernel_initializer='normal'))\n",
        "\n",
        "# Compiling the model\n",
        "model.compile(loss='mean_squared_error', optimizer='adam')\n",
        "\n",
        "# simple early stopping\n",
        "#es = EarlyStopping(monitor='loss', mode='min', verbose=1)\n",
        "\n",
        "# Fitting the ANN to the Training set\n",
        "model.fit(X_train, y_train ,batch_size = 20, epochs = 20,verbose=1 )"
      ],
      "execution_count": 127,
      "outputs": [
        {
          "output_type": "stream",
          "name": "stdout",
          "text": [
            "Epoch 1/20\n",
            "1888/1888 [==============================] - 4s 2ms/step - loss: 0.1873\n",
            "Epoch 2/20\n",
            "1888/1888 [==============================] - 4s 2ms/step - loss: 0.0840\n",
            "Epoch 3/20\n",
            "1888/1888 [==============================] - 4s 2ms/step - loss: 0.0771\n",
            "Epoch 4/20\n",
            "1888/1888 [==============================] - 4s 2ms/step - loss: 0.0708\n",
            "Epoch 5/20\n",
            "1888/1888 [==============================] - 4s 2ms/step - loss: 0.0676\n",
            "Epoch 6/20\n",
            "1888/1888 [==============================] - 4s 2ms/step - loss: 0.0661\n",
            "Epoch 7/20\n",
            "1888/1888 [==============================] - 4s 2ms/step - loss: 0.0657\n",
            "Epoch 8/20\n",
            "1888/1888 [==============================] - 4s 2ms/step - loss: 0.0652\n",
            "Epoch 9/20\n",
            "1888/1888 [==============================] - 4s 2ms/step - loss: 0.0649\n",
            "Epoch 10/20\n",
            "1888/1888 [==============================] - 4s 2ms/step - loss: 0.0646\n",
            "Epoch 11/20\n",
            "1888/1888 [==============================] - 4s 2ms/step - loss: 0.0645\n",
            "Epoch 12/20\n",
            "1888/1888 [==============================] - 4s 2ms/step - loss: 0.0640\n",
            "Epoch 13/20\n",
            "1888/1888 [==============================] - 4s 2ms/step - loss: 0.0637\n",
            "Epoch 14/20\n",
            "1888/1888 [==============================] - 4s 2ms/step - loss: 0.0634\n",
            "Epoch 15/20\n",
            "1888/1888 [==============================] - 4s 2ms/step - loss: 0.0632\n",
            "Epoch 16/20\n",
            "1888/1888 [==============================] - 4s 2ms/step - loss: 0.0627\n",
            "Epoch 17/20\n",
            "1888/1888 [==============================] - 4s 2ms/step - loss: 0.0622\n",
            "Epoch 18/20\n",
            "1888/1888 [==============================] - 4s 2ms/step - loss: 0.0618\n",
            "Epoch 19/20\n",
            "1888/1888 [==============================] - 4s 2ms/step - loss: 0.0614\n",
            "Epoch 20/20\n",
            "1888/1888 [==============================] - 4s 2ms/step - loss: 0.0612\n"
          ]
        },
        {
          "output_type": "execute_result",
          "data": {
            "text/plain": [
              "<keras.callbacks.History at 0x7f0a80be2b90>"
            ]
          },
          "metadata": {},
          "execution_count": 127
        }
      ]
    },
    {
      "cell_type": "code",
      "metadata": {
        "colab": {
          "base_uri": "https://localhost:8080/"
        },
        "id": "IMKQwE_A8PdJ",
        "outputId": "bfb3289c-ad93-40ed-da8d-2247955f7f1b"
      },
      "source": [
        "# Defining a function to find the best parameters for ANN\n",
        "def FunctionFindBestParams(X_train, y_train, X_test, y_test):\n",
        "    \n",
        "    # Defining the list of hyper parameters to try\n",
        "    batch_size_list=[5, 10, 15, 20]\n",
        "    epoch_list  =   [5, 10, 50, 100]\n",
        "    \n",
        "    import pandas as pd\n",
        "    SearchResultsData=pd.DataFrame(columns=['TrialNumber', 'Parameters', 'Accuracy'])\n",
        "    \n",
        "    # initializing the trials\n",
        "    TrialNumber=0\n",
        "    for batch_size_trial in batch_size_list:\n",
        "        for epochs_trial in epoch_list:\n",
        "            TrialNumber+=1\n",
        "            # create ANN model\n",
        "            model = Sequential()\n",
        "            # Defining the first layer of the model\n",
        "            model.add(Dense(units=5, input_dim=X_train.shape[1], kernel_initializer='normal', activation='relu'))\n",
        "\n",
        "            # Defining the Second layer of the model\n",
        "            model.add(Dense(units=5, kernel_initializer='normal', activation='relu'))\n",
        "\n",
        "            # The output neuron is a single fully connected node \n",
        "            # Since we will be predicting a single number\n",
        "            model.add(Dense(1, kernel_initializer='normal'))\n",
        "\n",
        "            # Compiling the model\n",
        "            model.compile(loss='mean_squared_error', optimizer='adam')\n",
        "\n",
        "            # Fitting the ANN to the Training set\n",
        "            model.fit(X_train, y_train ,batch_size = batch_size_trial, epochs = epochs_trial, verbose=0)\n",
        "\n",
        "            MAPE = np.mean(100 * (np.abs(y_test-model.predict(X_test))/y_test))\n",
        "            \n",
        "            # printing the results of the current iteration\n",
        "            print(TrialNumber, 'Parameters:','batch_size:', batch_size_trial,'-', 'epochs:',epochs_trial, 'Accuracy:', 100-MAPE)\n",
        "            \n",
        "            SearchResultsData=SearchResultsData.append(pd.DataFrame(data=[[TrialNumber, str(batch_size_trial)+'-'+str(epochs_trial), 100-MAPE]],\n",
        "                                                                    columns=['TrialNumber', 'Parameters', 'Accuracy'] ))\n",
        "    return(SearchResultsData)\n",
        "\n",
        "\n",
        "######################################################\n",
        "# Calling the function\n",
        "ResultsData=FunctionFindBestParams(X_train, y_train, X_test, y_test)"
      ],
      "execution_count": 128,
      "outputs": [
        {
          "output_type": "stream",
          "name": "stdout",
          "text": [
            "1 Parameters: batch_size: 5 - epochs: 5 Accuracy: 91.72674294399847\n",
            "2 Parameters: batch_size: 5 - epochs: 10 Accuracy: 97.96214084665381\n",
            "3 Parameters: batch_size: 5 - epochs: 50 Accuracy: 92.06147862485162\n",
            "4 Parameters: batch_size: 5 - epochs: 100 Accuracy: 86.10546786139469\n",
            "5 Parameters: batch_size: 10 - epochs: 5 Accuracy: 97.83843157645339\n",
            "6 Parameters: batch_size: 10 - epochs: 10 Accuracy: 91.23859233955518\n",
            "7 Parameters: batch_size: 10 - epochs: 50 Accuracy: 82.40119351990162\n",
            "8 Parameters: batch_size: 10 - epochs: 100 Accuracy: 84.68911504971746\n",
            "9 Parameters: batch_size: 15 - epochs: 5 Accuracy: 95.74954626838704\n",
            "10 Parameters: batch_size: 15 - epochs: 10 Accuracy: 92.73093275492425\n",
            "11 Parameters: batch_size: 15 - epochs: 50 Accuracy: 95.06546452018398\n",
            "12 Parameters: batch_size: 15 - epochs: 100 Accuracy: 70.69249852450866\n",
            "13 Parameters: batch_size: 20 - epochs: 5 Accuracy: 83.20178951791517\n",
            "14 Parameters: batch_size: 20 - epochs: 10 Accuracy: 101.86385569460089\n",
            "15 Parameters: batch_size: 20 - epochs: 50 Accuracy: 87.14199470961587\n",
            "16 Parameters: batch_size: 20 - epochs: 100 Accuracy: 74.22190078545133\n"
          ]
        }
      ]
    },
    {
      "cell_type": "code",
      "metadata": {
        "colab": {
          "base_uri": "https://localhost:8080/",
          "height": 295
        },
        "id": "rK8eDKCn8Phl",
        "outputId": "37649e46-0c27-43ab-cbbb-d8232c11d50d"
      },
      "source": [
        "ResultsData.plot(x='Parameters', y='Accuracy', figsize=(15,4), kind='line')"
      ],
      "execution_count": 130,
      "outputs": [
        {
          "output_type": "execute_result",
          "data": {
            "text/plain": [
              "<matplotlib.axes._subplots.AxesSubplot at 0x7f0a808f1c10>"
            ]
          },
          "metadata": {},
          "execution_count": 130
        },
        {
          "output_type": "display_data",
          "data": {
            "image/png": "[encoded data removed]",
            "text/plain": [
              "<Figure size 1080x288 with 1 Axes>"
            ]
          },
          "metadata": {}
        }
      ]
    },
    {
      "cell_type": "code",
      "metadata": {
        "colab": {
          "base_uri": "https://localhost:8080/",
          "height": 653
        },
        "id": "3t4esTpf8Plt",
        "outputId": "88e97537-bcd8-4783-cce8-ef5336905a7c"
      },
      "source": [
        "# Fitting the ANN to the Training set\n",
        "model.fit(X_train, y_train ,batch_size = 15, epochs = 5, verbose=0)\n",
        "\n",
        "# Generating Predictions on testing data\n",
        "Predictions=model.predict(X_test)\n",
        "\n",
        "# Scaling the predicted Price data back to original price scale\n",
        "Predictions=TargetVarScalerFit.inverse_transform(Predictions)\n",
        "\n",
        "# Scaling the y_test Price data back to original price scale\n",
        "y_test_orig=TargetVarScalerFit.inverse_transform(y_test)\n",
        "\n",
        "# Scaling the test data back to original scale\n",
        "Test_Data=PredictorScalerFit.inverse_transform(X_test)\n",
        "\n",
        "TestingData=pd.DataFrame(data=Test_Data, columns=Predictors)\n",
        "TestingData['Price']=y_test_orig\n",
        "TestingData['PredictedPrice']=Predictions\n",
        "TestingData.head(20)"
      ],
      "execution_count": 134,
      "outputs": [
        {
          "output_type": "execute_result",
          "data": {
            "text/html": [
              "<div>\n",
              "<style scoped>\n",
              "    .dataframe tbody tr th:only-of-type {\n",
              "        vertical-align: middle;\n",
              "    }\n",
              "\n",
              "    .dataframe tbody tr th {\n",
              "        vertical-align: top;\n",
              "    }\n",
              "\n",
              "    .dataframe thead th {\n",
              "        text-align: right;\n",
              "    }\n",
              "</style>\n",
              "<table border=\"1\" class=\"dataframe\">\n",
              "  <thead>\n",
              "    <tr style=\"text-align: right;\">\n",
              "      <th></th>\n",
              "      <th>carat</th>\n",
              "      <th>cut</th>\n",
              "      <th>color</th>\n",
              "      <th>clarity</th>\n",
              "      <th>depth</th>\n",
              "      <th>table</th>\n",
              "      <th>x</th>\n",
              "      <th>y</th>\n",
              "      <th>z</th>\n",
              "      <th>Price</th>\n",
              "      <th>PredictedPrice</th>\n",
              "    </tr>\n",
              "  </thead>\n",
              "  <tbody>\n",
              "    <tr>\n",
              "      <th>0</th>\n",
              "      <td>0.24</td>\n",
              "      <td>2.0</td>\n",
              "      <td>3.0</td>\n",
              "      <td>6.0</td>\n",
              "      <td>62.1</td>\n",
              "      <td>56.0</td>\n",
              "      <td>3.97</td>\n",
              "      <td>4.00</td>\n",
              "      <td>2.47</td>\n",
              "      <td>559.0</td>\n",
              "      <td>469.592438</td>\n",
              "    </tr>\n",
              "    <tr>\n",
              "      <th>1</th>\n",
              "      <td>0.58</td>\n",
              "      <td>4.0</td>\n",
              "      <td>2.0</td>\n",
              "      <td>7.0</td>\n",
              "      <td>60.0</td>\n",
              "      <td>57.0</td>\n",
              "      <td>5.44</td>\n",
              "      <td>5.42</td>\n",
              "      <td>3.26</td>\n",
              "      <td>2201.0</td>\n",
              "      <td>2380.518555</td>\n",
              "    </tr>\n",
              "    <tr>\n",
              "      <th>2</th>\n",
              "      <td>0.40</td>\n",
              "      <td>2.0</td>\n",
              "      <td>1.0</td>\n",
              "      <td>7.0</td>\n",
              "      <td>62.1</td>\n",
              "      <td>55.0</td>\n",
              "      <td>4.76</td>\n",
              "      <td>4.74</td>\n",
              "      <td>2.95</td>\n",
              "      <td>1238.0</td>\n",
              "      <td>1506.063599</td>\n",
              "    </tr>\n",
              "    <tr>\n",
              "      <th>3</th>\n",
              "      <td>0.43</td>\n",
              "      <td>3.0</td>\n",
              "      <td>1.0</td>\n",
              "      <td>7.0</td>\n",
              "      <td>60.8</td>\n",
              "      <td>57.0</td>\n",
              "      <td>4.92</td>\n",
              "      <td>4.89</td>\n",
              "      <td>2.98</td>\n",
              "      <td>1304.0</td>\n",
              "      <td>1610.306274</td>\n",
              "    </tr>\n",
              "    <tr>\n",
              "      <th>4</th>\n",
              "      <td>1.55</td>\n",
              "      <td>2.0</td>\n",
              "      <td>1.0</td>\n",
              "      <td>3.0</td>\n",
              "      <td>62.3</td>\n",
              "      <td>55.0</td>\n",
              "      <td>7.44</td>\n",
              "      <td>7.37</td>\n",
              "      <td>4.61</td>\n",
              "      <td>6901.0</td>\n",
              "      <td>12252.166016</td>\n",
              "    </tr>\n",
              "    <tr>\n",
              "      <th>5</th>\n",
              "      <td>1.00</td>\n",
              "      <td>0.0</td>\n",
              "      <td>1.0</td>\n",
              "      <td>3.0</td>\n",
              "      <td>55.4</td>\n",
              "      <td>62.0</td>\n",
              "      <td>6.63</td>\n",
              "      <td>6.59</td>\n",
              "      <td>3.66</td>\n",
              "      <td>3011.0</td>\n",
              "      <td>4815.110352</td>\n",
              "    </tr>\n",
              "    <tr>\n",
              "      <th>6</th>\n",
              "      <td>0.51</td>\n",
              "      <td>2.0</td>\n",
              "      <td>2.0</td>\n",
              "      <td>4.0</td>\n",
              "      <td>60.2</td>\n",
              "      <td>56.0</td>\n",
              "      <td>5.22</td>\n",
              "      <td>5.24</td>\n",
              "      <td>3.15</td>\n",
              "      <td>1765.0</td>\n",
              "      <td>1432.308472</td>\n",
              "    </tr>\n",
              "    <tr>\n",
              "      <th>7</th>\n",
              "      <td>0.52</td>\n",
              "      <td>2.0</td>\n",
              "      <td>0.0</td>\n",
              "      <td>5.0</td>\n",
              "      <td>62.0</td>\n",
              "      <td>56.0</td>\n",
              "      <td>5.17</td>\n",
              "      <td>5.19</td>\n",
              "      <td>3.21</td>\n",
              "      <td>1679.0</td>\n",
              "      <td>1823.626343</td>\n",
              "    </tr>\n",
              "    <tr>\n",
              "      <th>8</th>\n",
              "      <td>0.62</td>\n",
              "      <td>3.0</td>\n",
              "      <td>1.0</td>\n",
              "      <td>5.0</td>\n",
              "      <td>60.0</td>\n",
              "      <td>59.0</td>\n",
              "      <td>5.58</td>\n",
              "      <td>5.56</td>\n",
              "      <td>3.34</td>\n",
              "      <td>2102.0</td>\n",
              "      <td>2232.447754</td>\n",
              "    </tr>\n",
              "    <tr>\n",
              "      <th>9</th>\n",
              "      <td>1.14</td>\n",
              "      <td>2.0</td>\n",
              "      <td>4.0</td>\n",
              "      <td>2.0</td>\n",
              "      <td>60.3</td>\n",
              "      <td>57.0</td>\n",
              "      <td>6.79</td>\n",
              "      <td>6.85</td>\n",
              "      <td>4.11</td>\n",
              "      <td>4789.0</td>\n",
              "      <td>6033.994141</td>\n",
              "    </tr>\n",
              "    <tr>\n",
              "      <th>10</th>\n",
              "      <td>0.40</td>\n",
              "      <td>2.0</td>\n",
              "      <td>0.0</td>\n",
              "      <td>3.0</td>\n",
              "      <td>62.8</td>\n",
              "      <td>56.0</td>\n",
              "      <td>4.73</td>\n",
              "      <td>4.70</td>\n",
              "      <td>2.96</td>\n",
              "      <td>855.0</td>\n",
              "      <td>1063.067017</td>\n",
              "    </tr>\n",
              "    <tr>\n",
              "      <th>11</th>\n",
              "      <td>1.83</td>\n",
              "      <td>4.0</td>\n",
              "      <td>1.0</td>\n",
              "      <td>3.0</td>\n",
              "      <td>62.8</td>\n",
              "      <td>56.0</td>\n",
              "      <td>7.76</td>\n",
              "      <td>7.82</td>\n",
              "      <td>4.89</td>\n",
              "      <td>13134.0</td>\n",
              "      <td>15175.010742</td>\n",
              "    </tr>\n",
              "    <tr>\n",
              "      <th>12</th>\n",
              "      <td>0.60</td>\n",
              "      <td>0.0</td>\n",
              "      <td>2.0</td>\n",
              "      <td>2.0</td>\n",
              "      <td>55.3</td>\n",
              "      <td>63.0</td>\n",
              "      <td>5.67</td>\n",
              "      <td>5.61</td>\n",
              "      <td>3.12</td>\n",
              "      <td>1367.0</td>\n",
              "      <td>1797.951538</td>\n",
              "    </tr>\n",
              "    <tr>\n",
              "      <th>13</th>\n",
              "      <td>0.70</td>\n",
              "      <td>4.0</td>\n",
              "      <td>2.0</td>\n",
              "      <td>2.0</td>\n",
              "      <td>63.5</td>\n",
              "      <td>56.0</td>\n",
              "      <td>5.58</td>\n",
              "      <td>5.66</td>\n",
              "      <td>3.57</td>\n",
              "      <td>2401.0</td>\n",
              "      <td>2551.428955</td>\n",
              "    </tr>\n",
              "    <tr>\n",
              "      <th>14</th>\n",
              "      <td>0.53</td>\n",
              "      <td>1.0</td>\n",
              "      <td>4.0</td>\n",
              "      <td>1.0</td>\n",
              "      <td>61.2</td>\n",
              "      <td>65.0</td>\n",
              "      <td>5.16</td>\n",
              "      <td>5.27</td>\n",
              "      <td>3.19</td>\n",
              "      <td>1440.0</td>\n",
              "      <td>1299.039673</td>\n",
              "    </tr>\n",
              "    <tr>\n",
              "      <th>15</th>\n",
              "      <td>1.55</td>\n",
              "      <td>2.0</td>\n",
              "      <td>5.0</td>\n",
              "      <td>4.0</td>\n",
              "      <td>61.2</td>\n",
              "      <td>55.0</td>\n",
              "      <td>7.49</td>\n",
              "      <td>7.47</td>\n",
              "      <td>4.58</td>\n",
              "      <td>10286.0</td>\n",
              "      <td>9481.485352</td>\n",
              "    </tr>\n",
              "    <tr>\n",
              "      <th>16</th>\n",
              "      <td>0.98</td>\n",
              "      <td>0.0</td>\n",
              "      <td>2.0</td>\n",
              "      <td>3.0</td>\n",
              "      <td>61.6</td>\n",
              "      <td>66.0</td>\n",
              "      <td>6.46</td>\n",
              "      <td>6.24</td>\n",
              "      <td>3.92</td>\n",
              "      <td>2958.0</td>\n",
              "      <td>3161.156250</td>\n",
              "    </tr>\n",
              "    <tr>\n",
              "      <th>17</th>\n",
              "      <td>0.40</td>\n",
              "      <td>2.0</td>\n",
              "      <td>1.0</td>\n",
              "      <td>6.0</td>\n",
              "      <td>62.6</td>\n",
              "      <td>56.0</td>\n",
              "      <td>4.73</td>\n",
              "      <td>4.70</td>\n",
              "      <td>2.95</td>\n",
              "      <td>1397.0</td>\n",
              "      <td>1295.719360</td>\n",
              "    </tr>\n",
              "    <tr>\n",
              "      <th>18</th>\n",
              "      <td>1.50</td>\n",
              "      <td>4.0</td>\n",
              "      <td>2.0</td>\n",
              "      <td>2.0</td>\n",
              "      <td>62.8</td>\n",
              "      <td>56.0</td>\n",
              "      <td>7.26</td>\n",
              "      <td>7.33</td>\n",
              "      <td>4.58</td>\n",
              "      <td>9904.0</td>\n",
              "      <td>9803.327148</td>\n",
              "    </tr>\n",
              "    <tr>\n",
              "      <th>19</th>\n",
              "      <td>0.35</td>\n",
              "      <td>4.0</td>\n",
              "      <td>5.0</td>\n",
              "      <td>4.0</td>\n",
              "      <td>60.7</td>\n",
              "      <td>62.0</td>\n",
              "      <td>4.53</td>\n",
              "      <td>4.59</td>\n",
              "      <td>2.77</td>\n",
              "      <td>552.0</td>\n",
              "      <td>497.817047</td>\n",
              "    </tr>\n",
              "  </tbody>\n",
              "</table>\n",
              "</div>"
            ],
            "text/plain": [
              "    carat  cut  color  clarity  ...     y     z    Price  PredictedPrice\n",
              "0    0.24  2.0    3.0      6.0  ...  4.00  2.47    559.0      469.592438\n",
              "1    0.58  4.0    2.0      7.0  ...  5.42  3.26   2201.0     2380.518555\n",
              "2    0.40  2.0    1.0      7.0  ...  4.74  2.95   1238.0     1506.063599\n",
              "3    0.43  3.0    1.0      7.0  ...  4.89  2.98   1304.0     1610.306274\n",
              "4    1.55  2.0    1.0      3.0  ...  7.37  4.61   6901.0    12252.166016\n",
              "5    1.00  0.0    1.0      3.0  ...  6.59  3.66   3011.0     4815.110352\n",
              "6    0.51  2.0    2.0      4.0  ...  5.24  3.15   1765.0     1432.308472\n",
              "7    0.52  2.0    0.0      5.0  ...  5.19  3.21   1679.0     1823.626343\n",
              "8    0.62  3.0    1.0      5.0  ...  5.56  3.34   2102.0     2232.447754\n",
              "9    1.14  2.0    4.0      2.0  ...  6.85  4.11   4789.0     6033.994141\n",
              "10   0.40  2.0    0.0      3.0  ...  4.70  2.96    855.0     1063.067017\n",
              "11   1.83  4.0    1.0      3.0  ...  7.82  4.89  13134.0    15175.010742\n",
              "12   0.60  0.0    2.0      2.0  ...  5.61  3.12   1367.0     1797.951538\n",
              "13   0.70  4.0    2.0      2.0  ...  5.66  3.57   2401.0     2551.428955\n",
              "14   0.53  1.0    4.0      1.0  ...  5.27  3.19   1440.0     1299.039673\n",
              "15   1.55  2.0    5.0      4.0  ...  7.47  4.58  10286.0     9481.485352\n",
              "16   0.98  0.0    2.0      3.0  ...  6.24  3.92   2958.0     3161.156250\n",
              "17   0.40  2.0    1.0      6.0  ...  4.70  2.95   1397.0     1295.719360\n",
              "18   1.50  4.0    2.0      2.0  ...  7.33  4.58   9904.0     9803.327148\n",
              "19   0.35  4.0    5.0      4.0  ...  4.59  2.77    552.0      497.817047\n",
              "\n",
              "[20 rows x 11 columns]"
            ]
          },
          "metadata": {},
          "execution_count": 134
        }
      ]
    },
    {
      "cell_type": "code",
      "metadata": {
        "colab": {
          "base_uri": "https://localhost:8080/",
          "height": 216
        },
        "id": "O0YvZQAi8PsN",
        "outputId": "de43e52e-1854-425a-c4a4-2b9d1c9451cb"
      },
      "source": [
        "# Computing the absolute percent error\n",
        "APE=100*(abs(TestingData['Price']-TestingData['PredictedPrice'])/TestingData['Price'])\n",
        "TestingData['APE']=APE\n",
        "\n",
        "print('The Accuracy of ANN model is:', 100-np.mean(APE))\n",
        "TestingData.head()"
      ],
      "execution_count": 135,
      "outputs": [
        {
          "output_type": "stream",
          "name": "stdout",
          "text": [
            "The Accuracy of ANN model is: 85.42460846960012\n"
          ]
        },
        {
          "output_type": "execute_result",
          "data": {
            "text/html": [
              "<div>\n",
              "<style scoped>\n",
              "    .dataframe tbody tr th:only-of-type {\n",
              "        vertical-align: middle;\n",
              "    }\n",
              "\n",
              "    .dataframe tbody tr th {\n",
              "        vertical-align: top;\n",
              "    }\n",
              "\n",
              "    .dataframe thead th {\n",
              "        text-align: right;\n",
              "    }\n",
              "</style>\n",
              "<table border=\"1\" class=\"dataframe\">\n",
              "  <thead>\n",
              "    <tr style=\"text-align: right;\">\n",
              "      <th></th>\n",
              "      <th>carat</th>\n",
              "      <th>cut</th>\n",
              "      <th>color</th>\n",
              "      <th>clarity</th>\n",
              "      <th>depth</th>\n",
              "      <th>table</th>\n",
              "      <th>x</th>\n",
              "      <th>y</th>\n",
              "      <th>z</th>\n",
              "      <th>Price</th>\n",
              "      <th>PredictedPrice</th>\n",
              "      <th>APE</th>\n",
              "    </tr>\n",
              "  </thead>\n",
              "  <tbody>\n",
              "    <tr>\n",
              "      <th>0</th>\n",
              "      <td>0.24</td>\n",
              "      <td>2.0</td>\n",
              "      <td>3.0</td>\n",
              "      <td>6.0</td>\n",
              "      <td>62.1</td>\n",
              "      <td>56.0</td>\n",
              "      <td>3.97</td>\n",
              "      <td>4.00</td>\n",
              "      <td>2.47</td>\n",
              "      <td>559.0</td>\n",
              "      <td>469.592438</td>\n",
              "      <td>15.994197</td>\n",
              "    </tr>\n",
              "    <tr>\n",
              "      <th>1</th>\n",
              "      <td>0.58</td>\n",
              "      <td>4.0</td>\n",
              "      <td>2.0</td>\n",
              "      <td>7.0</td>\n",
              "      <td>60.0</td>\n",
              "      <td>57.0</td>\n",
              "      <td>5.44</td>\n",
              "      <td>5.42</td>\n",
              "      <td>3.26</td>\n",
              "      <td>2201.0</td>\n",
              "      <td>2380.518555</td>\n",
              "      <td>8.156227</td>\n",
              "    </tr>\n",
              "    <tr>\n",
              "      <th>2</th>\n",
              "      <td>0.40</td>\n",
              "      <td>2.0</td>\n",
              "      <td>1.0</td>\n",
              "      <td>7.0</td>\n",
              "      <td>62.1</td>\n",
              "      <td>55.0</td>\n",
              "      <td>4.76</td>\n",
              "      <td>4.74</td>\n",
              "      <td>2.95</td>\n",
              "      <td>1238.0</td>\n",
              "      <td>1506.063599</td>\n",
              "      <td>21.652956</td>\n",
              "    </tr>\n",
              "    <tr>\n",
              "      <th>3</th>\n",
              "      <td>0.43</td>\n",
              "      <td>3.0</td>\n",
              "      <td>1.0</td>\n",
              "      <td>7.0</td>\n",
              "      <td>60.8</td>\n",
              "      <td>57.0</td>\n",
              "      <td>4.92</td>\n",
              "      <td>4.89</td>\n",
              "      <td>2.98</td>\n",
              "      <td>1304.0</td>\n",
              "      <td>1610.306274</td>\n",
              "      <td>23.489745</td>\n",
              "    </tr>\n",
              "    <tr>\n",
              "      <th>4</th>\n",
              "      <td>1.55</td>\n",
              "      <td>2.0</td>\n",
              "      <td>1.0</td>\n",
              "      <td>3.0</td>\n",
              "      <td>62.3</td>\n",
              "      <td>55.0</td>\n",
              "      <td>7.44</td>\n",
              "      <td>7.37</td>\n",
              "      <td>4.61</td>\n",
              "      <td>6901.0</td>\n",
              "      <td>12252.166016</td>\n",
              "      <td>77.541893</td>\n",
              "    </tr>\n",
              "  </tbody>\n",
              "</table>\n",
              "</div>"
            ],
            "text/plain": [
              "   carat  cut  color  clarity  ...     z   Price  PredictedPrice        APE\n",
              "0   0.24  2.0    3.0      6.0  ...  2.47   559.0      469.592438  15.994197\n",
              "1   0.58  4.0    2.0      7.0  ...  3.26  2201.0     2380.518555   8.156227\n",
              "2   0.40  2.0    1.0      7.0  ...  2.95  1238.0     1506.063599  21.652956\n",
              "3   0.43  3.0    1.0      7.0  ...  2.98  1304.0     1610.306274  23.489745\n",
              "4   1.55  2.0    1.0      3.0  ...  4.61  6901.0    12252.166016  77.541893\n",
              "\n",
              "[5 rows x 12 columns]"
            ]
          },
          "metadata": {},
          "execution_count": 135
        }
      ]
    },
    {
      "cell_type": "markdown",
      "metadata": {
        "id": "VwV09zIMW_to"
      },
      "source": [
        "# ***Conclusion:***"
      ]
    },
    {
      "cell_type": "markdown",
      "metadata": {
        "id": "YTre2K1GXHU1"
      },
      "source": [
        "This template can be used to fit the Deep Learning ANN regression model on any given dataset.\n",
        "\n",
        "Deep ANNs work great when you have a good amount of data available for learning. For small datasets with less than 50K records, I will recommend using the supervised ML models like Random Forests, Adaboosts, XGBoosts, etc.\n",
        "\n",
        "The simple reason behind this is the high complexity and large computations of ANN. It is not worth it, if you can achieve the same accuracy with a faster and simpler model.\n",
        "\n",
        "You look at deep learning ANNs only when you have a large amount of data available and the other algorithms are failing or do not fit for the task."
      ]
    },
    {
      "cell_type": "code",
      "metadata": {
        "id": "G4_N8AcDxlmm"
      },
      "source": [
        ""
      ],
      "execution_count": null,
      "outputs": []
    },
    {
      "cell_type": "code",
      "metadata": {
        "id": "TzSBTNwd1s9_"
      },
      "source": [
        ""
      ],
      "execution_count": null,
      "outputs": []
    }
  ]
}